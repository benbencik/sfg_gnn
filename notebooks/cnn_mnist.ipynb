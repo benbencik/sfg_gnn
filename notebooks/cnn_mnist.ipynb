{
 "cells": [
  {
   "cell_type": "markdown",
   "metadata": {},
   "source": [
    "# Image Classification using a simple neural network"
   ]
  },
  {
   "cell_type": "markdown",
   "metadata": {},
   "source": [
    "![title](images/ml_banner.png)"
   ]
  },
  {
   "cell_type": "markdown",
   "metadata": {},
   "source": [
    "We will create a simple neural network to classify [MNIST dataset](https://en.wikipedia.org/wiki/MNIST_database)."
   ]
  },
  {
   "cell_type": "code",
   "execution_count": 1,
   "metadata": {},
   "outputs": [],
   "source": [
    "import os"
   ]
  },
  {
   "cell_type": "code",
   "execution_count": 2,
   "metadata": {},
   "outputs": [],
   "source": [
    "os.environ[\"TF_CPP_MIN_LOG_LEVEL\"] = \"3\"\n",
    "os.environ[\"CUDA_VISIBLE_DEVICES\"] = \"-1\""
   ]
  },
  {
   "cell_type": "code",
   "execution_count": 3,
   "metadata": {},
   "outputs": [],
   "source": [
    "# import modules\n",
    "import numpy as np\n",
    "import matplotlib.pyplot as plt\n",
    "import tensorflow as tf\n",
    "import tensorflow.keras as keras\n",
    "\n",
    "# import MNIST dataset\n",
    "from tensorflow.keras.datasets import mnist"
   ]
  },
  {
   "cell_type": "code",
   "execution_count": 4,
   "metadata": {},
   "outputs": [
    {
     "name": "stdout",
     "output_type": "stream",
     "text": [
      "NumPy version: 1.23.3\n",
      "TensorFlow version: 2.9.1\n"
     ]
    }
   ],
   "source": [
    "print(\"NumPy version: {}\".format(np.__version__))\n",
    "print(\"TensorFlow version: {}\".format(tf.__version__))"
   ]
  },
  {
   "cell_type": "markdown",
   "metadata": {},
   "source": [
    "***"
   ]
  },
  {
   "cell_type": "markdown",
   "metadata": {},
   "source": [
    "## The MNIST Dataset"
   ]
  },
  {
   "cell_type": "markdown",
   "metadata": {},
   "source": [
    "The [MNSIT dataset](http://yann.lecun.com/exdb/mnist/) is a collection of 70,000 grayscale images of handwritten digits from 0 to 9. Here are 40 of the images included in the MNIST dataset:"
   ]
  },
  {
   "cell_type": "markdown",
   "metadata": {},
   "source": [
    "<img src=\"./images/mnist1.png\" style=\"width: 600px;\">"
   ]
  },
  {
   "cell_type": "markdown",
   "metadata": {},
   "source": [
    "## Loading the Data"
   ]
  },
  {
   "cell_type": "markdown",
   "metadata": {},
   "source": [
    "We use [Tensorflow 2](https://www.tensorflow.org/tutorials/quickstart/beginner) framework including the [Keras API](https://keras.io/). Keras provides also modules containing many helper methods for [many common datasets](https://www.tensorflow.org/api_docs/python/tf/keras/datasets), including MNIST."
   ]
  },
  {
   "cell_type": "code",
   "execution_count": 5,
   "metadata": {},
   "outputs": [],
   "source": [
    "# split the data between train and validation sets\n",
    "(x_train, y_train), (x_test, y_test) = mnist.load_data()"
   ]
  },
  {
   "cell_type": "markdown",
   "metadata": {},
   "source": [
    "The data have been automatically split into 4 sets:\n",
    "\n",
    "1. `x_train`: Images used for training the neural network\n",
    "2. `y_train`: Correct labels for the `x_train` images, used to evaluate the model's predictions during training\n",
    "3. `x_test`: Images *set aside* for testing the performance of the model after it has been trained\n",
    "4. `y_test`: Correct labels for the `x_test` images, used to evaluate the model's predictions after it has been trained"
   ]
  },
  {
   "cell_type": "markdown",
   "metadata": {},
   "source": [
    "## Exploring the MNIST Data"
   ]
  },
  {
   "cell_type": "markdown",
   "metadata": {},
   "source": [
    "MNIST dataset containes 70,000 images. Each image is a 2D array of size 28x28.\n",
    "Keras split this dataset as follows:\n",
    "* 60,000 images for training\n",
    "* 10,000 imagnes for testing"
   ]
  },
  {
   "cell_type": "code",
   "execution_count": 6,
   "metadata": {},
   "outputs": [
    {
     "name": "stdout",
     "output_type": "stream",
     "text": [
      "Shape of the training dataset: (60000, 28, 28)\n",
      "Shape of the test dataset: (10000, 28, 28)\n"
     ]
    }
   ],
   "source": [
    "# check shapes of the datasets\n",
    "print(\"Shape of the training dataset: {}\".format(x_train.shape))\n",
    "print(\"Shape of the test dataset: {}\".format(x_test.shape))"
   ]
  },
  {
   "cell_type": "markdown",
   "metadata": {},
   "source": [
    "The MNIST images are represented as a collection of unsigned 8-bit integer values between 0 and 255. The values corresponding with a pixel's grayscale value where `0` is black, `255` is white, and all other values are in between."
   ]
  },
  {
   "cell_type": "code",
   "execution_count": 7,
   "metadata": {},
   "outputs": [
    {
     "name": "stdout",
     "output_type": "stream",
     "text": [
      "Data type: uint8\n"
     ]
    }
   ],
   "source": [
    "# check data type\n",
    "print(\"Data type: {}\".format(x_train.dtype))"
   ]
  },
  {
   "cell_type": "code",
   "execution_count": 8,
   "metadata": {},
   "outputs": [
    {
     "name": "stdout",
     "output_type": "stream",
     "text": [
      "Minimum value: 0\n",
      "Maximum value: 255\n"
     ]
    }
   ],
   "source": [
    "# check minimum and maximum values\n",
    "print(\"Minimum value: {}\".format(x_train.min()))\n",
    "print(\"Maximum value: {}\".format(x_train.max()))"
   ]
  },
  {
   "cell_type": "code",
   "execution_count": 9,
   "metadata": {},
   "outputs": [
    {
     "name": "stdout",
     "output_type": "stream",
     "text": [
      "Image shape: (28, 28)\n",
      "[[  0   0   0   0   0   0   0   0   0   0   0   0   0   0   0   0   0   0\n",
      "    0   0   0   0   0   0   0   0   0   0]\n",
      " [  0   0   0   0   0   0   0   0   0   0   0   0   0   0   0   0   0   0\n",
      "    0   0   0   0   0   0   0   0   0   0]\n",
      " [  0   0   0   0   0   0   0   0   0   0   0   0   0   0   0   0   0   0\n",
      "    0   0   0   0   0   0   0   0   0   0]\n",
      " [  0   0   0   0   0   0   0   0   0   0   0  39 173 207  76   0   0   0\n",
      "    0   0   0   0   0   0   0   0   0   0]\n",
      " [  0   0   0   0   0   0   0   0   0   0   0 141 252 252 143   0   0   0\n",
      "    0   0   0   0   0   0   0   0   0   0]\n",
      " [  0   0   0   0   0   0   0   0   0   0  55 230 252 252 127   0   0   0\n",
      "    0   0   0   0   0   0   0   0   0   0]\n",
      " [  0   0   0   0   0   0   0   0   0   0 181 252 236 101   8   0   0   0\n",
      "    0   0   0   0   0   0   0   0   0   0]\n",
      " [  0   0   0   0   0   0   0   0   0   0 181 235  70   0   0   0   0   0\n",
      "    0   0   0   0   0   0   0   0   0   0]\n",
      " [  0   0   0   0   0   0   0   0   0  38 235 180   0   0   0   0   0   0\n",
      "    0   0   0   0   0   0   0   0   0   0]\n",
      " [  0   0   0   0   0   0   0   0   0  49 252 180   0   0   0   0   0   0\n",
      "    0   0   0   0   0   0   0   0   0   0]\n",
      " [  0   0   0   0   0   0   0   0   0  49 252 123   0   0   0   0   0   0\n",
      "    0   0   0   0   0   0   0   0   0   0]\n",
      " [  0   0   0   0   0   0   0   0   0  49 252  71   0   0   0   0   0   0\n",
      "    0   0   0   0   0   0   0   0   0   0]\n",
      " [  0   0   0   0   0   0   0   0   0 107 252 174   0   0   0   0 122 121\n",
      "  104   0   0   0   0   0   0   0   0   0]\n",
      " [  0   0   0   0   0   0   0   0   0 164 253 180   0 115 242 253 255 253\n",
      "  253 253 167  37   0   0   0   0   0   0]\n",
      " [  0   0   0   0   0   0   0   0   0  49 252 180   9 220 252 252 109 108\n",
      "  125 233 252 187   5   0   0   0   0   0]\n",
      " [  0   0   0   0   0   0   0   0   0  49 252 190  92 252 167  96   0   0\n",
      "    0  19 208 252 123   0   0   0   0   0]\n",
      " [  0   0   0   0   0   0   0   0   0  16 204 252 212 252  47   0   0   0\n",
      "    0   0 181 252 167   0   0   0   0   0]\n",
      " [  0   0   0   0   0   0   0   0   0   0 181 252 252 252 143   0   0   0\n",
      "    0   0  95 252 167   0   0   0   0   0]\n",
      " [  0   0   0   0   0   0   0   0   0   0 146 252 252 252 143   0   0   0\n",
      "    0   0  96 252  76   0   0   0   0   0]\n",
      " [  0   0   0   0   0   0   0   0   0   0  12 204 252 252 143   0   0   0\n",
      "    0  80 239 193   9   0   0   0   0   0]\n",
      " [  0   0   0   0   0   0   0   0   0   0   0  62 234 252 237 159  98  97\n",
      "  115 241 229  54   0   0   0   0   0   0]\n",
      " [  0   0   0   0   0   0   0   0   0   0   0   0  19 168 252 252 253 252\n",
      "  252 252 140   0   0   0   0   0   0   0]\n",
      " [  0   0   0   0   0   0   0   0   0   0   0   0   0   5  63 131 132 201\n",
      "  235 131  38   0   0   0   0   0   0   0]\n",
      " [  0   0   0   0   0   0   0   0   0   0   0   0   0   0   0   0   0   0\n",
      "    0   0   0   0   0   0   0   0   0   0]\n",
      " [  0   0   0   0   0   0   0   0   0   0   0   0   0   0   0   0   0   0\n",
      "    0   0   0   0   0   0   0   0   0   0]\n",
      " [  0   0   0   0   0   0   0   0   0   0   0   0   0   0   0   0   0   0\n",
      "    0   0   0   0   0   0   0   0   0   0]\n",
      " [  0   0   0   0   0   0   0   0   0   0   0   0   0   0   0   0   0   0\n",
      "    0   0   0   0   0   0   0   0   0   0]\n",
      " [  0   0   0   0   0   0   0   0   0   0   0   0   0   0   0   0   0   0\n",
      "    0   0   0   0   0   0   0   0   0   0]]\n"
     ]
    }
   ],
   "source": [
    "# check a sample matrix\n",
    "num_image = 186\n",
    "\n",
    "# image\n",
    "image = x_train[num_image]\n",
    "\n",
    "# print image shape\n",
    "print(\"Image shape: {}\".format(image.shape))\n",
    "\n",
    "# print image\n",
    "print(image)"
   ]
  },
  {
   "cell_type": "code",
   "execution_count": 10,
   "metadata": {},
   "outputs": [
    {
     "data": {
      "image/png": "[encoded data removed]",
      "text/plain": [
       "<Figure size 432x288 with 1 Axes>"
      ]
     },
     "metadata": {
      "needs_background": "light"
     },
     "output_type": "display_data"
    }
   ],
   "source": [
    "# plot the sample image\n",
    "plt.imshow(image, cmap=\"gray\")\n",
    "\n",
    "plt.show()"
   ]
  },
  {
   "cell_type": "markdown",
   "metadata": {},
   "source": [
    "The label related to this image (the number) is in the array `y_train`."
   ]
  },
  {
   "cell_type": "code",
   "execution_count": 11,
   "metadata": {},
   "outputs": [
    {
     "data": {
      "text/plain": [
       "6"
      ]
     },
     "execution_count": 11,
     "metadata": {},
     "output_type": "execute_result"
    }
   ],
   "source": [
    "y_train[num_image]"
   ]
  },
  {
   "cell_type": "code",
   "execution_count": 12,
   "metadata": {},
   "outputs": [
    {
     "name": "stdout",
     "output_type": "stream",
     "text": [
      "Shape of the list of the training labels: (60000,)\n",
      "Shape of the list of the test labels: (10000,)\n"
     ]
    }
   ],
   "source": [
    "# check the labels\n",
    "print(\"Shape of the list of the training labels: {}\".format(y_train.shape))\n",
    "print(\"Shape of the list of the test labels: {}\".format(y_test.shape))"
   ]
  },
  {
   "cell_type": "code",
   "execution_count": 13,
   "metadata": {},
   "outputs": [
    {
     "name": "stdout",
     "output_type": "stream",
     "text": [
      "Unique labels in the training dataset: [0 1 2 3 4 5 6 7 8 9]\n",
      "Unique labels in the test dataset: [0 1 2 3 4 5 6 7 8 9]\n"
     ]
    }
   ],
   "source": [
    "print(\"Unique labels in the training dataset: {}\".format(np.unique(y_train)))\n",
    "print(\"Unique labels in the test dataset: {}\".format(np.unique(y_test)))"
   ]
  },
  {
   "cell_type": "markdown",
   "metadata": {},
   "source": [
    "## Preparing the Data for Training"
   ]
  },
  {
   "cell_type": "markdown",
   "metadata": {},
   "source": [
    "In machine learning, it is common that data needs to be transformed to be suitable for training:\n",
    "\n",
    "1. Flatten the image data\n",
    "2. Normalize the image data\n",
    "3. Categorize the labels"
   ]
  },
  {
   "cell_type": "markdown",
   "metadata": {},
   "source": [
    "### Flattening the Image Data"
   ]
  },
  {
   "cell_type": "markdown",
   "metadata": {},
   "source": [
    "First, we will [reshape](https://www.tensorflow.org/api_docs/python/tf/reshape) each image into a 1D array of 28x28 = 784 values."
   ]
  },
  {
   "cell_type": "code",
   "execution_count": 14,
   "metadata": {},
   "outputs": [],
   "source": [
    "x_train = x_train.reshape(60000, 784)  # reshape training set\n",
    "x_test = x_test.reshape(10000, 784)    # reshape test set"
   ]
  },
  {
   "cell_type": "code",
   "execution_count": 15,
   "metadata": {},
   "outputs": [
    {
     "name": "stdout",
     "output_type": "stream",
     "text": [
      "Shape of the training dataset: (60000, 784)\n",
      "Shape of the test dataset: (10000, 784)\n"
     ]
    }
   ],
   "source": [
    "# check the new shape\n",
    "print(\"Shape of the training dataset: {}\".format(x_train.shape))\n",
    "print(\"Shape of the test dataset: {}\".format(x_test.shape))"
   ]
  },
  {
   "cell_type": "code",
   "execution_count": 16,
   "metadata": {},
   "outputs": [
    {
     "name": "stdout",
     "output_type": "stream",
     "text": [
      "Shape of the image: (784,)\n",
      "[  0   0   0   0   0   0   0   0   0   0   0   0   0   0   0   0   0   0\n",
      "   0   0   0   0   0   0   0   0   0   0   0   0   0   0   0   0   0   0\n",
      "   0   0   0   0   0   0   0   0   0   0   0   0   0   0   0   0   0   0\n",
      "   0   0   0   0   0   0   0   0   0   0   0   0   0   0   0   0   0   0\n",
      "   0   0   0   0   0   0   0   0   0   0   0   0   0   0   0   0   0   0\n",
      "   0   0   0   0   0  39 173 207  76   0   0   0   0   0   0   0   0   0\n",
      "   0   0   0   0   0   0   0   0   0   0   0   0   0   0   0 141 252 252\n",
      " 143   0   0   0   0   0   0   0   0   0   0   0   0   0   0   0   0   0\n",
      "   0   0   0   0   0   0  55 230 252 252 127   0   0   0   0   0   0   0\n",
      "   0   0   0   0   0   0   0   0   0   0   0   0   0   0   0   0 181 252\n",
      " 236 101   8   0   0   0   0   0   0   0   0   0   0   0   0   0   0   0\n",
      "   0   0   0   0   0   0   0   0 181 235  70   0   0   0   0   0   0   0\n",
      "   0   0   0   0   0   0   0   0   0   0   0   0   0   0   0   0   0  38\n",
      " 235 180   0   0   0   0   0   0   0   0   0   0   0   0   0   0   0   0\n",
      "   0   0   0   0   0   0   0   0   0  49 252 180   0   0   0   0   0   0\n",
      "   0   0   0   0   0   0   0   0   0   0   0   0   0   0   0   0   0   0\n",
      "   0  49 252 123   0   0   0   0   0   0   0   0   0   0   0   0   0   0\n",
      "   0   0   0   0   0   0   0   0   0   0   0  49 252  71   0   0   0   0\n",
      "   0   0   0   0   0   0   0   0   0   0   0   0   0   0   0   0   0   0\n",
      "   0   0   0 107 252 174   0   0   0   0 122 121 104   0   0   0   0   0\n",
      "   0   0   0   0   0   0   0   0   0   0   0   0   0 164 253 180   0 115\n",
      " 242 253 255 253 253 253 167  37   0   0   0   0   0   0   0   0   0   0\n",
      "   0   0   0   0   0  49 252 180   9 220 252 252 109 108 125 233 252 187\n",
      "   5   0   0   0   0   0   0   0   0   0   0   0   0   0   0  49 252 190\n",
      "  92 252 167  96   0   0   0  19 208 252 123   0   0   0   0   0   0   0\n",
      "   0   0   0   0   0   0   0  16 204 252 212 252  47   0   0   0   0   0\n",
      " 181 252 167   0   0   0   0   0   0   0   0   0   0   0   0   0   0   0\n",
      " 181 252 252 252 143   0   0   0   0   0  95 252 167   0   0   0   0   0\n",
      "   0   0   0   0   0   0   0   0   0   0 146 252 252 252 143   0   0   0\n",
      "   0   0  96 252  76   0   0   0   0   0   0   0   0   0   0   0   0   0\n",
      "   0   0  12 204 252 252 143   0   0   0   0  80 239 193   9   0   0   0\n",
      "   0   0   0   0   0   0   0   0   0   0   0   0   0  62 234 252 237 159\n",
      "  98  97 115 241 229  54   0   0   0   0   0   0   0   0   0   0   0   0\n",
      "   0   0   0   0   0   0  19 168 252 252 253 252 252 252 140   0   0   0\n",
      "   0   0   0   0   0   0   0   0   0   0   0   0   0   0   0   0   0   5\n",
      "  63 131 132 201 235 131  38   0   0   0   0   0   0   0   0   0   0   0\n",
      "   0   0   0   0   0   0   0   0   0   0   0   0   0   0   0   0   0   0\n",
      "   0   0   0   0   0   0   0   0   0   0   0   0   0   0   0   0   0   0\n",
      "   0   0   0   0   0   0   0   0   0   0   0   0   0   0   0   0   0   0\n",
      "   0   0   0   0   0   0   0   0   0   0   0   0   0   0   0   0   0   0\n",
      "   0   0   0   0   0   0   0   0   0   0   0   0   0   0   0   0   0   0\n",
      "   0   0   0   0   0   0   0   0   0   0   0   0   0   0   0   0   0   0\n",
      "   0   0   0   0   0   0   0   0   0   0   0   0   0   0   0   0   0   0\n",
      "   0   0   0   0   0   0   0   0   0   0]\n"
     ]
    }
   ],
   "source": [
    "# flattened image\n",
    "flat_image = x_train[num_image]\n",
    "\n",
    "# check shape of the flattened image\n",
    "print(\"Shape of the image: {}\".format(flat_image.shape))\n",
    "\n",
    "# check flattened image\n",
    "print(flat_image)"
   ]
  },
  {
   "cell_type": "markdown",
   "metadata": {},
   "source": [
    "### Normalizing the Image Data"
   ]
  },
  {
   "cell_type": "markdown",
   "metadata": {},
   "source": [
    "Converting integer values to floating point values between 0 and 1."
   ]
  },
  {
   "cell_type": "code",
   "execution_count": 17,
   "metadata": {},
   "outputs": [],
   "source": [
    "x_train = x_train / 255\n",
    "x_test  = x_test  / 255 "
   ]
  },
  {
   "cell_type": "code",
   "execution_count": 18,
   "metadata": {},
   "outputs": [
    {
     "name": "stdout",
     "output_type": "stream",
     "text": [
      "Data type after being normalized: float64\n"
     ]
    }
   ],
   "source": [
    "# check the data type\n",
    "print(\"Data type after being normalized: {}\".format(x_train.dtype))"
   ]
  },
  {
   "cell_type": "code",
   "execution_count": 19,
   "metadata": {},
   "outputs": [
    {
     "name": "stdout",
     "output_type": "stream",
     "text": [
      "Minimum value: 0.0\n",
      "Maximum value: 1.0\n"
     ]
    }
   ],
   "source": [
    "# check minimum and maximum values\n",
    "print(\"Minimum value: {}\".format(x_train.min()))\n",
    "print(\"Maximum value: {}\".format(x_train.max()))"
   ]
  },
  {
   "cell_type": "code",
   "execution_count": 20,
   "metadata": {},
   "outputs": [
    {
     "name": "stdout",
     "output_type": "stream",
     "text": [
      "[0.    0.    0.    0.    0.    0.    0.    0.    0.    0.    0.    0.\n",
      " 0.    0.    0.    0.    0.    0.    0.    0.    0.    0.    0.    0.\n",
      " 0.    0.    0.    0.    0.    0.    0.    0.    0.    0.    0.    0.\n",
      " 0.    0.    0.    0.    0.    0.    0.    0.    0.    0.    0.    0.\n",
      " 0.    0.    0.    0.    0.    0.    0.    0.    0.    0.    0.    0.\n",
      " 0.    0.    0.    0.    0.    0.    0.    0.    0.    0.    0.    0.\n",
      " 0.    0.    0.    0.    0.    0.    0.    0.    0.    0.    0.    0.\n",
      " 0.    0.    0.    0.    0.    0.    0.    0.    0.    0.    0.    0.153\n",
      " 0.678 0.812 0.298 0.    0.    0.    0.    0.    0.    0.    0.    0.\n",
      " 0.    0.    0.    0.    0.    0.    0.    0.    0.    0.    0.    0.\n",
      " 0.    0.    0.    0.553 0.988 0.988 0.561 0.    0.    0.    0.    0.\n",
      " 0.    0.    0.    0.    0.    0.    0.    0.    0.    0.    0.    0.\n",
      " 0.    0.    0.    0.    0.    0.    0.216 0.902 0.988 0.988 0.498 0.\n",
      " 0.    0.    0.    0.    0.    0.    0.    0.    0.    0.    0.    0.\n",
      " 0.    0.    0.    0.    0.    0.    0.    0.    0.    0.    0.71  0.988\n",
      " 0.925 0.396 0.031 0.    0.    0.    0.    0.    0.    0.    0.    0.\n",
      " 0.    0.    0.    0.    0.    0.    0.    0.    0.    0.    0.    0.\n",
      " 0.    0.    0.71  0.922 0.275 0.    0.    0.    0.    0.    0.    0.\n",
      " 0.    0.    0.    0.    0.    0.    0.    0.    0.    0.    0.    0.\n",
      " 0.    0.    0.    0.    0.    0.149 0.922 0.706 0.    0.    0.    0.\n",
      " 0.    0.    0.    0.    0.    0.    0.    0.    0.    0.    0.    0.\n",
      " 0.    0.    0.    0.    0.    0.    0.    0.    0.    0.192 0.988 0.706\n",
      " 0.    0.    0.    0.    0.    0.    0.    0.    0.    0.    0.    0.\n",
      " 0.    0.    0.    0.    0.    0.    0.    0.    0.    0.    0.    0.\n",
      " 0.    0.192 0.988 0.482 0.    0.    0.    0.    0.    0.    0.    0.\n",
      " 0.    0.    0.    0.    0.    0.    0.    0.    0.    0.    0.    0.\n",
      " 0.    0.    0.    0.    0.    0.192 0.988 0.278 0.    0.    0.    0.\n",
      " 0.    0.    0.    0.    0.    0.    0.    0.    0.    0.    0.    0.\n",
      " 0.    0.    0.    0.    0.    0.    0.    0.    0.    0.42  0.988 0.682\n",
      " 0.    0.    0.    0.    0.478 0.475 0.408 0.    0.    0.    0.    0.\n",
      " 0.    0.    0.    0.    0.    0.    0.    0.    0.    0.    0.    0.\n",
      " 0.    0.643 0.992 0.706 0.    0.451 0.949 0.992 1.    0.992 0.992 0.992\n",
      " 0.655 0.145 0.    0.    0.    0.    0.    0.    0.    0.    0.    0.\n",
      " 0.    0.    0.    0.    0.    0.192 0.988 0.706 0.035 0.863 0.988 0.988\n",
      " 0.427 0.424 0.49  0.914 0.988 0.733 0.02  0.    0.    0.    0.    0.\n",
      " 0.    0.    0.    0.    0.    0.    0.    0.    0.    0.192 0.988 0.745\n",
      " 0.361 0.988 0.655 0.376 0.    0.    0.    0.075 0.816 0.988 0.482 0.\n",
      " 0.    0.    0.    0.    0.    0.    0.    0.    0.    0.    0.    0.\n",
      " 0.    0.063 0.8   0.988 0.831 0.988 0.184 0.    0.    0.    0.    0.\n",
      " 0.71  0.988 0.655 0.    0.    0.    0.    0.    0.    0.    0.    0.\n",
      " 0.    0.    0.    0.    0.    0.    0.71  0.988 0.988 0.988 0.561 0.\n",
      " 0.    0.    0.    0.    0.373 0.988 0.655 0.    0.    0.    0.    0.\n",
      " 0.    0.    0.    0.    0.    0.    0.    0.    0.    0.    0.573 0.988\n",
      " 0.988 0.988 0.561 0.    0.    0.    0.    0.    0.376 0.988 0.298 0.\n",
      " 0.    0.    0.    0.    0.    0.    0.    0.    0.    0.    0.    0.\n",
      " 0.    0.    0.047 0.8   0.988 0.988 0.561 0.    0.    0.    0.    0.314\n",
      " 0.937 0.757 0.035 0.    0.    0.    0.    0.    0.    0.    0.    0.\n",
      " 0.    0.    0.    0.    0.    0.    0.    0.243 0.918 0.988 0.929 0.624\n",
      " 0.384 0.38  0.451 0.945 0.898 0.212 0.    0.    0.    0.    0.    0.\n",
      " 0.    0.    0.    0.    0.    0.    0.    0.    0.    0.    0.    0.\n",
      " 0.075 0.659 0.988 0.988 0.992 0.988 0.988 0.988 0.549 0.    0.    0.\n",
      " 0.    0.    0.    0.    0.    0.    0.    0.    0.    0.    0.    0.\n",
      " 0.    0.    0.    0.    0.    0.02  0.247 0.514 0.518 0.788 0.922 0.514\n",
      " 0.149 0.    0.    0.    0.    0.    0.    0.    0.    0.    0.    0.\n",
      " 0.    0.    0.    0.    0.    0.    0.    0.    0.    0.    0.    0.\n",
      " 0.    0.    0.    0.    0.    0.    0.    0.    0.    0.    0.    0.\n",
      " 0.    0.    0.    0.    0.    0.    0.    0.    0.    0.    0.    0.\n",
      " 0.    0.    0.    0.    0.    0.    0.    0.    0.    0.    0.    0.\n",
      " 0.    0.    0.    0.    0.    0.    0.    0.    0.    0.    0.    0.\n",
      " 0.    0.    0.    0.    0.    0.    0.    0.    0.    0.    0.    0.\n",
      " 0.    0.    0.    0.    0.    0.    0.    0.    0.    0.    0.    0.\n",
      " 0.    0.    0.    0.    0.    0.    0.    0.    0.    0.    0.    0.\n",
      " 0.    0.    0.    0.    0.    0.    0.    0.    0.    0.    0.    0.\n",
      " 0.    0.    0.    0.    0.    0.    0.    0.    0.    0.    0.    0.\n",
      " 0.    0.    0.    0.    0.    0.    0.    0.    0.    0.    0.    0.\n",
      " 0.    0.    0.    0.   ]\n"
     ]
    }
   ],
   "source": [
    "# normalized image\n",
    "norm_image = x_train[num_image]\n",
    "\n",
    "# print\n",
    "np.set_printoptions(precision=3)\n",
    "print(norm_image)"
   ]
  },
  {
   "cell_type": "markdown",
   "metadata": {},
   "source": [
    "### Categorically Encoding the Labels"
   ]
  },
  {
   "cell_type": "markdown",
   "metadata": {},
   "source": [
    "Keras provides a utility to [categorically encode values](https://www.tensorflow.org/api_docs/python/tf/keras/utils/to_categorical), and here we use it to perform categorical encoding for both the training and validation labels:"
   ]
  },
  {
   "cell_type": "code",
   "execution_count": 21,
   "metadata": {},
   "outputs": [],
   "source": [
    "num_categories = 10  # number of categories (0, 1, 2,... , 9)\n",
    "\n",
    "# categorical encoding\n",
    "y_train = keras.utils.to_categorical(y_train, num_categories)\n",
    "y_test  = keras.utils.to_categorical(y_test, num_categories)"
   ]
  },
  {
   "cell_type": "markdown",
   "metadata": {},
   "source": [
    "Print first 10 values of the training labels, which have been categorically encoded:"
   ]
  },
  {
   "cell_type": "code",
   "execution_count": 22,
   "metadata": {},
   "outputs": [
    {
     "data": {
      "text/plain": [
       "array([[0., 0., 0., 0., 0., 1., 0., 0., 0., 0.],\n",
       "       [1., 0., 0., 0., 0., 0., 0., 0., 0., 0.],\n",
       "       [0., 0., 0., 0., 1., 0., 0., 0., 0., 0.],\n",
       "       [0., 1., 0., 0., 0., 0., 0., 0., 0., 0.],\n",
       "       [0., 0., 0., 0., 0., 0., 0., 0., 0., 1.],\n",
       "       [0., 0., 1., 0., 0., 0., 0., 0., 0., 0.],\n",
       "       [0., 1., 0., 0., 0., 0., 0., 0., 0., 0.],\n",
       "       [0., 0., 0., 1., 0., 0., 0., 0., 0., 0.],\n",
       "       [0., 1., 0., 0., 0., 0., 0., 0., 0., 0.]], dtype=float32)"
      ]
     },
     "execution_count": 22,
     "metadata": {},
     "output_type": "execute_result"
    }
   ],
   "source": [
    "y_train[0:9]"
   ]
  },
  {
   "cell_type": "markdown",
   "metadata": {},
   "source": [
    "### Split training dataset into training and validation parts"
   ]
  },
  {
   "cell_type": "markdown",
   "metadata": {},
   "source": [
    "Finally, we shall split the training dataset into training and validation subsets."
   ]
  },
  {
   "cell_type": "code",
   "execution_count": 23,
   "metadata": {},
   "outputs": [],
   "source": [
    "# shuffle the training dataset\n",
    "ind = np.random.permutation(len(x_train))  # random permutation of indices\n",
    "\n",
    "x_train = x_train[ind]\n",
    "y_train = y_train[ind]"
   ]
  },
  {
   "cell_type": "code",
   "execution_count": 24,
   "metadata": {},
   "outputs": [
    {
     "data": {
      "text/plain": [
       "(60000, 784)"
      ]
     },
     "execution_count": 24,
     "metadata": {},
     "output_type": "execute_result"
    }
   ],
   "source": [
    "x_train.shape"
   ]
  },
  {
   "cell_type": "markdown",
   "metadata": {},
   "source": [
    "Set 10% of the training dataset as validation set. The rest will remain as training dataset."
   ]
  },
  {
   "cell_type": "code",
   "execution_count": 25,
   "metadata": {},
   "outputs": [],
   "source": [
    "pval = .1                             # relative size of the validation dataset\n",
    "num_valid = int(pval * len(x_train))  # number of images in the validation dataset\n",
    "\n",
    "# validation dataset\n",
    "x_valid = x_train[:num_valid,:]\n",
    "y_valid = y_train[:num_valid,:]\n",
    "\n",
    "# training dataset\n",
    "x_train = x_train[num_valid:,:]\n",
    "y_train = y_train[num_valid:,:]"
   ]
  },
  {
   "cell_type": "code",
   "execution_count": 26,
   "metadata": {},
   "outputs": [
    {
     "name": "stdout",
     "output_type": "stream",
     "text": [
      "Size of the trainig dataset: 54000\n",
      "Size of the validation dataset: 6000\n"
     ]
    }
   ],
   "source": [
    "# check the size of training and validation dataset\n",
    "print(\"Size of the trainig dataset: {}\".format(len(x_train)))\n",
    "print(\"Size of the validation dataset: {}\".format(len(x_valid)))"
   ]
  },
  {
   "cell_type": "markdown",
   "metadata": {},
   "source": [
    "***"
   ]
  },
  {
   "cell_type": "markdown",
   "metadata": {},
   "source": [
    "## Creating the Model: neural network"
   ]
  },
  {
   "cell_type": "markdown",
   "metadata": {},
   "source": [
    "Now we prepare the model consisted of several *layers*, which can be divided into the three groups:\n",
    "\n",
    "1. An `input layer`, which will receive data in some expected format\n",
    "2. Several `hidden layers`\n",
    "3. An `output layer`, which will depict the network's guess for a given image"
   ]
  },
  {
   "cell_type": "markdown",
   "metadata": {},
   "source": [
    "<img src=\"./images/nn_dense.jpg\" style=\"width: 600px;\">\n",
    "\n",
    "Figure source: F. Bre *et al.*, Energy and Buildings 158, 1429 (2018)"
   ]
  },
  {
   "cell_type": "markdown",
   "metadata": {},
   "source": [
    "### Instantiating the Model"
   ]
  },
  {
   "cell_type": "markdown",
   "metadata": {},
   "source": [
    "We will use Keras's [Sequential](https://www.tensorflow.org/api_docs/python/tf/keras/Sequential) model class to instantiate an instance of a model that will have a series of layers that data will pass through in sequence:"
   ]
  },
  {
   "cell_type": "code",
   "execution_count": 27,
   "metadata": {},
   "outputs": [],
   "source": [
    "from tensorflow.keras.models import Sequential"
   ]
  },
  {
   "cell_type": "code",
   "execution_count": 28,
   "metadata": {},
   "outputs": [],
   "source": [
    "# instantiate model\n",
    "model = Sequential()"
   ]
  },
  {
   "cell_type": "markdown",
   "metadata": {},
   "source": [
    "### Creating the Input Layer"
   ]
  },
  {
   "cell_type": "markdown",
   "metadata": {},
   "source": [
    "Next, we will add the input layer. This layer will be *densely connected*, meaning that each neuron in it, and its weights, will affect every neuron in the next layer. To do this with Keras, we use Keras's [Dense](https://www.tensorflow.org/api_docs/python/tf/keras/layers/Dense) layer class."
   ]
  },
  {
   "cell_type": "code",
   "execution_count": 29,
   "metadata": {},
   "outputs": [],
   "source": [
    "from tensorflow.keras.layers import Dense"
   ]
  },
  {
   "cell_type": "markdown",
   "metadata": {},
   "source": [
    "* The `units` argument specifies the number of neurons in the layer. Initially, we use `512`.\n",
    "* The `activation` argument is the activation function. We use `relu` actiovation function.\n",
    "* The `input_shape` value specifies the shape of the incoming data which in our situation is a 1D array of 784 values."
   ]
  },
  {
   "cell_type": "code",
   "execution_count": 30,
   "metadata": {},
   "outputs": [],
   "source": [
    "model.add(\n",
    "    Dense(units=512, activation=\"relu\", input_shape=(784,))\n",
    ")"
   ]
  },
  {
   "cell_type": "markdown",
   "metadata": {},
   "source": [
    "### Creating the Hidden Layer"
   ]
  },
  {
   "cell_type": "markdown",
   "metadata": {},
   "source": [
    "Now we add an additional densely connected layer."
   ]
  },
  {
   "cell_type": "code",
   "execution_count": 31,
   "metadata": {},
   "outputs": [],
   "source": [
    "model.add(\n",
    "    Dense(units=512, activation=\"relu\")\n",
    ")"
   ]
  },
  {
   "cell_type": "markdown",
   "metadata": {},
   "source": [
    "### Creating the Output Layer"
   ]
  },
  {
   "cell_type": "markdown",
   "metadata": {},
   "source": [
    "Finally, we add an output layer. This layer uses the activation function `softmax`."
   ]
  },
  {
   "cell_type": "markdown",
   "metadata": {},
   "source": [
    "#### Softmax output layer\n",
    "\n",
    "If we use `softmax` activation in the output layer, the output we obtain vector $\\vec{p} = (p_1, p_2, \\dots, p_{n_{\\rm out}})$, where $n_{\\rm out} = 10$\n",
    "is the number of categories, and $p_i$ is the propability that the image belongs to the $i$-th category.\n",
    "Thus, $p_i \\in \\left\\langle 0, 1 \\right\\rangle$, and\n",
    "\\begin{equation}\n",
    "    \\sum_{i=1}^{n_{\\rm out}} p_{i} = 1\\,.\n",
    "\\end{equation}"
   ]
  },
  {
   "cell_type": "code",
   "execution_count": 32,
   "metadata": {},
   "outputs": [],
   "source": [
    "model.add(\n",
    "    Dense(units=10, activation=\"softmax\")\n",
    ")"
   ]
  },
  {
   "cell_type": "markdown",
   "metadata": {},
   "source": [
    "### Summarizing the Model"
   ]
  },
  {
   "cell_type": "markdown",
   "metadata": {},
   "source": [
    "Keras provides the model instance method [summary](https://www.tensorflow.org/api_docs/python/tf/summary) which will print a readable summary of a model:"
   ]
  },
  {
   "cell_type": "code",
   "execution_count": 33,
   "metadata": {},
   "outputs": [
    {
     "name": "stdout",
     "output_type": "stream",
     "text": [
      "Model: \"sequential\"\n",
      "_________________________________________________________________\n",
      " Layer (type)                Output Shape              Param #   \n",
      "=================================================================\n",
      " dense (Dense)               (None, 512)               401920    \n",
      "                                                                 \n",
      " dense_1 (Dense)             (None, 512)               262656    \n",
      "                                                                 \n",
      " dense_2 (Dense)             (None, 10)                5130      \n",
      "                                                                 \n",
      "=================================================================\n",
      "Total params: 669,706\n",
      "Trainable params: 669,706\n",
      "Non-trainable params: 0\n",
      "_________________________________________________________________\n"
     ]
    }
   ],
   "source": [
    "model.summary()"
   ]
  },
  {
   "cell_type": "markdown",
   "metadata": {},
   "source": [
    "### Compiling the Model"
   ]
  },
  {
   "cell_type": "markdown",
   "metadata": {},
   "source": [
    "Now we [compile](https://www.tensorflow.org/api_docs/python/tf/keras/Sequential#compile) the model. Here we specify a [loss function](https://developers.google.com/machine-learning/glossary#loss) which will evaluate how well the model is performing during the training. We use `categorical cross-entropy`. We also specify that we would like to track `accuracy` while the model trains."
   ]
  },
  {
   "cell_type": "markdown",
   "metadata": {},
   "source": [
    "#### Categorical cross-entropy\n",
    "\n",
    "Categorical cross-entropy for given image is defined as\n",
    "\\begin{equation}\n",
    "    H = -\\sum_{i=1}^{n_{\\rm out}} q_i\\, \\log p_i\\,,\n",
    "\\end{equation}\n",
    "where\n",
    "* $n_{\\rm out}$ is the *output size*: number of neurons in the output layer, or number of categories ($n_{\\rm out} = 10$)\n",
    "* $p_i$ is the value on the $i$-th neuron of the output layer (what we obtained)\n",
    "* $q_i$ is the corresponding targed value (categorically encoded label)\n",
    "\n",
    "Training/validation loss is calculated as a sum of $H$ for all training/validation data."
   ]
  },
  {
   "cell_type": "markdown",
   "metadata": {},
   "source": [
    "#### Accuracy\n",
    "\n",
    "The accuracy is defined as\n",
    "\\begin{equation}\n",
    "    {\\rm Accuracy} = \\frac{N_{\\rm correct}}{N_{\\rm total}}\\,,\n",
    "\\end{equation}\n",
    "where\n",
    "* $N_{\\rm correct}$ number of correctly classified images of the training/validation dataset\n",
    "* $N_{\\rm total}$ total number of images in the training/validation dataset"
   ]
  },
  {
   "cell_type": "code",
   "execution_count": 34,
   "metadata": {},
   "outputs": [],
   "source": [
    "model.compile(\n",
    "    loss=\"categorical_crossentropy\", metrics=[\"accuracy\"]\n",
    ")"
   ]
  },
  {
   "cell_type": "markdown",
   "metadata": {},
   "source": [
    "## Training the Model"
   ]
  },
  {
   "cell_type": "markdown",
   "metadata": {},
   "source": [
    "When fitting ([training](https://www.tensorflow.org/guide/keras/train_and_evaluate)) a model with Keras, we use the model's [fit](https://www.tensorflow.org/api_docs/python/tf/keras/Model#fit) method. It expects the following arguments:\n",
    "* The training data\n",
    "* The labels for the training data\n",
    "* The number of times it should train on the entire training dataset (called an *epoch*)\n",
    "* The number of samples (images) in one batch\n",
    "* The validation or test data, and its labels"
   ]
  },
  {
   "cell_type": "code",
   "execution_count": 35,
   "metadata": {},
   "outputs": [
    {
     "name": "stdout",
     "output_type": "stream",
     "text": [
      "Epoch 1/10\n",
      "6750/6750 [==============================] - 17s 3ms/step - loss: 0.2697 - accuracy: 0.9366 - val_loss: 0.2407 - val_accuracy: 0.9597\n",
      "Epoch 2/10\n",
      "6750/6750 [==============================] - 16s 2ms/step - loss: 0.2176 - accuracy: 0.9632 - val_loss: 0.2098 - val_accuracy: 0.9637\n",
      "Epoch 3/10\n",
      "6750/6750 [==============================] - 17s 3ms/step - loss: 0.2006 - accuracy: 0.9706 - val_loss: 0.2334 - val_accuracy: 0.9722\n",
      "Epoch 4/10\n",
      "6750/6750 [==============================] - 17s 3ms/step - loss: 0.1819 - accuracy: 0.9738 - val_loss: 0.1894 - val_accuracy: 0.9733\n",
      "Epoch 5/10\n",
      "6750/6750 [==============================] - 17s 2ms/step - loss: 0.1683 - accuracy: 0.9771 - val_loss: 0.3076 - val_accuracy: 0.9632\n",
      "Epoch 6/10\n",
      "6750/6750 [==============================] - 16s 2ms/step - loss: 0.1608 - accuracy: 0.9792 - val_loss: 0.2935 - val_accuracy: 0.9768\n",
      "Epoch 7/10\n",
      "6750/6750 [==============================] - 16s 2ms/step - loss: 0.1634 - accuracy: 0.9813 - val_loss: 0.3051 - val_accuracy: 0.9707\n",
      "Epoch 8/10\n",
      "6750/6750 [==============================] - 16s 2ms/step - loss: 0.1448 - accuracy: 0.9834 - val_loss: 0.3124 - val_accuracy: 0.9740\n",
      "Epoch 9/10\n",
      "6750/6750 [==============================] - 16s 2ms/step - loss: 0.1427 - accuracy: 0.9846 - val_loss: 0.3616 - val_accuracy: 0.9703\n",
      "Epoch 10/10\n",
      "6750/6750 [==============================] - 16s 2ms/step - loss: 0.1314 - accuracy: 0.9865 - val_loss: 0.3704 - val_accuracy: 0.9735\n"
     ]
    }
   ],
   "source": [
    "num_epochs = 10  # number of epochs\n",
    "batch_size = 8   # batch size\n",
    "\n",
    "history = model.fit(\n",
    "    x_train, y_train, epochs=num_epochs, verbose=1, batch_size=batch_size, \n",
    "    validation_data=(x_valid, y_valid)\n",
    ")"
   ]
  },
  {
   "cell_type": "markdown",
   "metadata": {},
   "source": [
    "### Observing Accuracy"
   ]
  },
  {
   "cell_type": "markdown",
   "metadata": {},
   "source": [
    "For each epoch, notice the `accuracy` and `val_accuracy` scores. `accuracy` states how well the model did for the epoch on all the training data. `val_accuracy` states how well the model did on the validation data, which if you recall, was not used at all for training the model."
   ]
  },
  {
   "cell_type": "code",
   "execution_count": 51,
   "metadata": {},
   "outputs": [
    {
     "data": {
      "image/png": "[encoded data removed]",
      "text/plain": [
       "<Figure size 720x432 with 1 Axes>"
      ]
     },
     "metadata": {
      "needs_background": "light"
     },
     "output_type": "display_data"
    }
   ],
   "source": [
    "# plot accuracy \n",
    "\n",
    "fig, ax = plt.subplots(figsize=(10,6))\n",
    "\n",
    "ax.plot(history.history[\"accuracy\"], \"o--\", markersize=10)\n",
    "ax.plot(history.history[\"val_accuracy\"], \"o--\", markersize=10)\n",
    "\n",
    "ax.set_title(\"Model accuracy\", size=16)\n",
    "ax.set_ylabel(\"Accuracy\", size=16)\n",
    "ax.set_xlabel(\"Epoch\", size=16)\n",
    "\n",
    "ax.legend([\"train\", \"valid\"], loc=\"upper left\", fontsize=16)\n",
    "\n",
    "plt.show()"
   ]
  },
  {
   "cell_type": "code",
   "execution_count": 52,
   "metadata": {},
   "outputs": [
    {
     "data": {
      "image/png": "[encoded data removed]",
      "text/plain": [
       "<Figure size 720x432 with 1 Axes>"
      ]
     },
     "metadata": {
      "needs_background": "light"
     },
     "output_type": "display_data"
    }
   ],
   "source": [
    "# plot loss\n",
    "\n",
    "fig, ax = plt.subplots(figsize=(10,6))\n",
    "\n",
    "ax.plot(history.history[\"loss\"], \"v--\", markersize=10)\n",
    "ax.plot(history.history[\"val_loss\"], \"v--\", markersize=10)\n",
    "\n",
    "ax.set_title(\"Model loss\", size=16)\n",
    "ax.set_ylabel(\"Loss\", size=16)\n",
    "ax.set_xlabel(\"Epoch\", size=16)\n",
    "\n",
    "ax.legend([\"train\", \"valid\"], loc=\"upper left\", fontsize=16)\n",
    "\n",
    "plt.show()"
   ]
  },
  {
   "cell_type": "markdown",
   "metadata": {},
   "source": [
    "### Important"
   ]
  },
  {
   "cell_type": "markdown",
   "metadata": {},
   "source": [
    "* Take care about `overfitting`!"
   ]
  },
  {
   "cell_type": "markdown",
   "metadata": {},
   "source": [
    "***"
   ]
  },
  {
   "cell_type": "markdown",
   "metadata": {},
   "source": [
    "## Evaluate model against test data"
   ]
  },
  {
   "cell_type": "markdown",
   "metadata": {},
   "source": [
    "Now evaluate the trained model on data in the test dataset using [evaluate](https://www.tensorflow.org/api_docs/python/tf/keras/Model#evaluate) method."
   ]
  },
  {
   "cell_type": "code",
   "execution_count": 53,
   "metadata": {},
   "outputs": [
    {
     "name": "stdout",
     "output_type": "stream",
     "text": [
      "1250/1250 [==============================] - 1s 630us/step - loss: 0.4192 - accuracy: 0.9714\n",
      "Test loss: 0.41919\n",
      "Test accuracy: 97.14%\n"
     ]
    }
   ],
   "source": [
    "test_loss, test_accuracy = model.evaluate(\n",
    "    x_test, y_test, batch_size=batch_size\n",
    ")\n",
    "\n",
    "print(\"Test loss: {:.5f}\".format(test_loss))\n",
    "print(\"Test accuracy: {:.2f}%\".format(test_accuracy*100))"
   ]
  },
  {
   "cell_type": "markdown",
   "metadata": {},
   "source": [
    "***"
   ]
  },
  {
   "cell_type": "markdown",
   "metadata": {},
   "source": [
    "## Predictions"
   ]
  },
  {
   "cell_type": "markdown",
   "metadata": {},
   "source": [
    "Finally, we apply the neural network to do some predictions."
   ]
  },
  {
   "cell_type": "code",
   "execution_count": 54,
   "metadata": {},
   "outputs": [
    {
     "name": "stdout",
     "output_type": "stream",
     "text": [
      "313/313 [==============================] - 0s 762us/step\n"
     ]
    }
   ],
   "source": [
    "Out = model.predict(x_test)"
   ]
  },
  {
   "cell_type": "markdown",
   "metadata": {},
   "source": [
    "Check few outputs of the neural network."
   ]
  },
  {
   "cell_type": "code",
   "execution_count": 55,
   "metadata": {},
   "outputs": [
    {
     "name": "stdout",
     "output_type": "stream",
     "text": [
      "[[0.000e+00 0.000e+00 0.000e+00 0.000e+00 0.000e+00 0.000e+00 0.000e+00\n",
      "  1.000e+00 0.000e+00 0.000e+00]\n",
      " [0.000e+00 0.000e+00 1.000e+00 0.000e+00 0.000e+00 0.000e+00 0.000e+00\n",
      "  0.000e+00 0.000e+00 0.000e+00]\n",
      " [2.323e-26 1.000e+00 2.637e-22 1.875e-27 5.949e-21 6.924e-21 7.057e-18\n",
      "  9.108e-26 6.002e-19 2.227e-26]\n",
      " [9.999e-01 1.695e-12 1.722e-05 3.619e-10 3.757e-05 1.825e-11 8.937e-08\n",
      "  6.205e-12 4.743e-12 5.369e-07]\n",
      " [0.000e+00 2.110e-37 1.400e-37 0.000e+00 1.000e+00 0.000e+00 0.000e+00\n",
      "  4.576e-30 0.000e+00 5.312e-24]\n",
      " [1.661e-20 1.000e+00 1.339e-16 7.422e-20 7.146e-15 3.560e-18 3.025e-16\n",
      "  1.176e-16 3.896e-15 1.044e-19]\n",
      " [0.000e+00 2.502e-16 1.111e-30 7.136e-25 1.000e+00 1.138e-31 7.684e-33\n",
      "  6.805e-23 1.455e-21 1.036e-17]\n",
      " [1.549e-24 2.156e-08 2.308e-15 8.846e-01 3.003e-08 2.070e-06 1.390e-19\n",
      "  4.824e-11 3.559e-06 1.153e-01]\n",
      " [0.000e+00 0.000e+00 0.000e+00 0.000e+00 0.000e+00 9.990e-01 9.953e-04\n",
      "  0.000e+00 1.127e-22 6.343e-21]\n",
      " [0.000e+00 0.000e+00 0.000e+00 0.000e+00 2.065e-35 0.000e+00 0.000e+00\n",
      "  0.000e+00 0.000e+00 1.000e+00]]\n"
     ]
    }
   ],
   "source": [
    "print(Out[:10])"
   ]
  },
  {
   "cell_type": "markdown",
   "metadata": {},
   "source": [
    "Turn categorical encoding into numbers"
   ]
  },
  {
   "cell_type": "code",
   "execution_count": 56,
   "metadata": {},
   "outputs": [],
   "source": [
    "predictions = np.argmax(Out, axis=1)\n",
    "labels      = np.argmax(y_test, axis=1)"
   ]
  },
  {
   "cell_type": "markdown",
   "metadata": {},
   "source": [
    "Check some of the predictions and compare them with the labels."
   ]
  },
  {
   "cell_type": "code",
   "execution_count": 57,
   "metadata": {},
   "outputs": [
    {
     "name": "stdout",
     "output_type": "stream",
     "text": [
      "[7 2 1 0 4 1 4 3 5 9 0 6 9 0 1 5 9 7 3 4 9 6 6 5 4 0 7 4 0 1]\n",
      "[7 2 1 0 4 1 4 9 5 9 0 6 9 0 1 5 9 7 3 4 9 6 6 5 4 0 7 4 0 1]\n"
     ]
    }
   ],
   "source": [
    "print(predictions[:30])\n",
    "print(labels[:30])"
   ]
  },
  {
   "cell_type": "markdown",
   "metadata": {},
   "source": [
    "***"
   ]
  },
  {
   "cell_type": "markdown",
   "metadata": {},
   "source": [
    "## Check incorrect predictions"
   ]
  },
  {
   "cell_type": "code",
   "execution_count": 58,
   "metadata": {},
   "outputs": [
    {
     "name": "stdout",
     "output_type": "stream",
     "text": [
      "Number of incorrectly classified images out of 10000 in the test dataset: 286\n"
     ]
    }
   ],
   "source": [
    "incorr_ind = np.where(predictions != labels)[0]  # position of incorrectly classified images\n",
    "\n",
    "print(\"Number of incorrectly classified images out of {:d} in the test dataset: {:d}\".format(len(predictions), len(incorr_ind)))"
   ]
  },
  {
   "cell_type": "markdown",
   "metadata": {},
   "source": [
    "Print some of the incorrect results"
   ]
  },
  {
   "cell_type": "code",
   "execution_count": 59,
   "metadata": {},
   "outputs": [
    {
     "name": "stdout",
     "output_type": "stream",
     "text": [
      "[3 1 9 3 6 8 7 3 0 9 8 1 3 8 2 8 6 8 6 1 1 8 6 1 9 9 9 6 8 9]\n",
      "[9 7 4 2 4 9 2 5 6 4 9 2 7 0 8 2 4 1 2 2 7 4 0 7 4 4 7 8 3 8]\n"
     ]
    }
   ],
   "source": [
    "print(predictions[incorr_ind[:30]])\n",
    "print(labels[incorr_ind[:30]])"
   ]
  },
  {
   "cell_type": "markdown",
   "metadata": {},
   "source": [
    "plot some of the incorrectly classified images"
   ]
  },
  {
   "cell_type": "code",
   "execution_count": 60,
   "metadata": {},
   "outputs": [
    {
     "name": "stdout",
     "output_type": "stream",
     "text": [
      "prediction: 3, label: 9\n"
     ]
    },
    {
     "data": {
      "image/png": "[encoded data removed]",
      "text/plain": [
       "<Figure size 432x288 with 1 Axes>"
      ]
     },
     "metadata": {
      "needs_background": "light"
     },
     "output_type": "display_data"
    },
    {
     "name": "stdout",
     "output_type": "stream",
     "text": [
      "prediction: 1, label: 7\n"
     ]
    },
    {
     "data": {
      "image/png": "[encoded data removed]",
      "text/plain": [
       "<Figure size 432x288 with 1 Axes>"
      ]
     },
     "metadata": {
      "needs_background": "light"
     },
     "output_type": "display_data"
    },
    {
     "name": "stdout",
     "output_type": "stream",
     "text": [
      "prediction: 9, label: 4\n"
     ]
    },
    {
     "data": {
      "image/png": "[encoded data removed]",
      "text/plain": [
       "<Figure size 432x288 with 1 Axes>"
      ]
     },
     "metadata": {
      "needs_background": "light"
     },
     "output_type": "display_data"
    },
    {
     "name": "stdout",
     "output_type": "stream",
     "text": [
      "prediction: 3, label: 2\n"
     ]
    },
    {
     "data": {
      "image/png": "[encoded data removed]",
      "text/plain": [
       "<Figure size 432x288 with 1 Axes>"
      ]
     },
     "metadata": {
      "needs_background": "light"
     },
     "output_type": "display_data"
    },
    {
     "name": "stdout",
     "output_type": "stream",
     "text": [
      "prediction: 6, label: 4\n"
     ]
    },
    {
     "data": {
      "image/png": "[encoded data removed]",
      "text/plain": [
       "<Figure size 432x288 with 1 Axes>"
      ]
     },
     "metadata": {
      "needs_background": "light"
     },
     "output_type": "display_data"
    }
   ],
   "source": [
    "for ind in incorr_ind[:5]:\n",
    "    image = x_test[ind].reshape(28,28)\n",
    "    \n",
    "    print(\"prediction: {:d}, label: {:d}\".format(predictions[ind], labels[ind]))\n",
    "    plt.imshow(image, cmap=\"gray\")\n",
    "    \n",
    "    plt.show()"
   ]
  },
  {
   "cell_type": "markdown",
   "metadata": {},
   "source": [
    "***"
   ]
  },
  {
   "cell_type": "markdown",
   "metadata": {},
   "source": [
    "## Save and load model"
   ]
  },
  {
   "cell_type": "markdown",
   "metadata": {},
   "source": [
    "You can [save the trained model and load it](https://www.tensorflow.org/tutorials/keras/save_and_load) in the future."
   ]
  },
  {
   "cell_type": "code",
   "execution_count": 61,
   "metadata": {},
   "outputs": [
    {
     "name": "stdout",
     "output_type": "stream",
     "text": [
      "INFO:tensorflow:Assets written to: saved_models/nn_mnist/assets\n"
     ]
    }
   ],
   "source": [
    "model.save(\"saved_models/nn_mnist\")  # save the model"
   ]
  },
  {
   "cell_type": "code",
   "execution_count": 62,
   "metadata": {},
   "outputs": [
    {
     "name": "stdout",
     "output_type": "stream",
     "text": [
      "\u001b[0m\u001b[01;34mnn_mnist\u001b[0m/\n"
     ]
    }
   ],
   "source": [
    "ls saved_models/"
   ]
  },
  {
   "cell_type": "code",
   "execution_count": 63,
   "metadata": {},
   "outputs": [],
   "source": [
    "model2 = tf.keras.models.load_model(\"saved_models/nn_mnist/\")  # load model"
   ]
  },
  {
   "cell_type": "code",
   "execution_count": 64,
   "metadata": {},
   "outputs": [
    {
     "name": "stdout",
     "output_type": "stream",
     "text": [
      "Model: \"sequential\"\n",
      "_________________________________________________________________\n",
      " Layer (type)                Output Shape              Param #   \n",
      "=================================================================\n",
      " dense (Dense)               (None, 512)               401920    \n",
      "                                                                 \n",
      " dense_1 (Dense)             (None, 512)               262656    \n",
      "                                                                 \n",
      " dense_2 (Dense)             (None, 10)                5130      \n",
      "                                                                 \n",
      "=================================================================\n",
      "Total params: 669,706\n",
      "Trainable params: 669,706\n",
      "Non-trainable params: 0\n",
      "_________________________________________________________________\n"
     ]
    }
   ],
   "source": [
    "# check the loaded model\n",
    "model2.summary()"
   ]
  },
  {
   "cell_type": "code",
   "execution_count": 65,
   "metadata": {},
   "outputs": [
    {
     "name": "stdout",
     "output_type": "stream",
     "text": [
      "1250/1250 [==============================] - 1s 638us/step - loss: 0.4192 - accuracy: 0.9714\n",
      "Test loss: 0.41919\n",
      "Test accuracy: 97.14%\n"
     ]
    }
   ],
   "source": [
    "# evaluate the loaded model\n",
    "test_loss, test_accuracy = model2.evaluate(\n",
    "    x_test, y_test, batch_size=batch_size\n",
    ")\n",
    "\n",
    "print(\"Test loss: {:.5f}\".format(test_loss))\n",
    "print(\"Test accuracy: {:.2f}%\".format(test_accuracy*100))"
   ]
  },
  {
   "cell_type": "code",
   "execution_count": null,
   "metadata": {},
   "outputs": [],
   "source": []
  }
 ],
 "metadata": {
  "kernelspec": {
   "display_name": "tf",
   "language": "python",
   "name": "tf"
  },
  "language_info": {
   "codemirror_mode": {
    "name": "ipython",
    "version": 3
   },
   "file_extension": ".py",
   "mimetype": "text/x-python",
   "name": "python",
   "nbconvert_exporter": "python",
   "pygments_lexer": "ipython3",
   "version": "3.9.12"
  }
 },
 "nbformat": 4,
 "nbformat_minor": 4
}
